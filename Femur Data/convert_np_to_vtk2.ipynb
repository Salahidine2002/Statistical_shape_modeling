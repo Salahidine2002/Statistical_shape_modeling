{
 "cells": [
  {
   "cell_type": "code",
   "execution_count": 1,
   "id": "ab9d0036",
   "metadata": {},
   "outputs": [],
   "source": [
    "import numpy as np\n",
    "import vtk\n",
    "from vtk.util.numpy_support import vtk_to_numpy\n",
    "import vtk.util.numpy_support as numpy_support\n"
   ]
  },
  {
   "cell_type": "code",
   "execution_count": 3,
   "id": "45dd50cd",
   "metadata": {},
   "outputs": [],
   "source": [
    "def visualize(nameOfFile):\n",
    "    # Load the VTK file\n",
    "    reader = vtk.vtkPolyDataReader()\n",
    "    reader.SetFileName(nameOfFile)\n",
    "    reader.Update()\n",
    "\n",
    "    # Create a mapper\n",
    "    mapper = vtk.vtkPolyDataMapper()\n",
    "    mapper.SetInputConnection(reader.GetOutputPort())\n",
    "\n",
    "    # Create an actor\n",
    "    actor = vtk.vtkActor()\n",
    "    actor.SetMapper(mapper)\n",
    "\n",
    "    # Create a renderer and add the actor to it\n",
    "    renderer = vtk.vtkRenderer()\n",
    "    renderer.AddActor(actor)\n",
    "\n",
    "    # Create a render window and set the renderer as its active renderer\n",
    "    renderWindow = vtk.vtkRenderWindow()\n",
    "    renderWindow.AddRenderer(renderer)\n",
    "    renderWindow.SetSize(600, 600)\n",
    "    renderer.ResetCamera()\n",
    "\n",
    "    # Create an interactor and start the visualization\n",
    "    interactor = vtk.vtkRenderWindowInteractor()\n",
    "    interactor.SetRenderWindow(renderWindow)\n",
    "    interactor.Start()\n",
    "    \n",
    "def readfile(filename):\n",
    "    reader = vtk.vtkGenericDataObjectReader()\n",
    "    reader.SetFileName(filename)\n",
    "    reader.Update()\n",
    "\n",
    "    polydata = reader.GetOutput()\n",
    "\n",
    "    points = polydata.GetPoints()\n",
    "    array = points.GetData()\n",
    "    numpy_nodes = vtk_to_numpy(array)\n",
    "    #print(numpy_nodes)\n",
    "    cells = polydata.GetPolys()\n",
    "    nCells = cells.GetNumberOfCells()\n",
    "    array = cells.GetData()\n",
    "    # This holds true if all polys are of the same kind, e.g. triangles.\n",
    "    assert(array.GetNumberOfValues()%nCells==0)\n",
    "    nCols = array.GetNumberOfValues()//nCells\n",
    "    numpy_cells = vtk_to_numpy(array)\n",
    "    numpy_cells = numpy_cells.reshape((-1,nCols))\n",
    "    return numpy_cells, numpy_nodes\n",
    "\n",
    "def write_vtk(points, cell, filename):\n",
    "    with open(filename, 'w') as f:\n",
    "        # Write header\n",
    "        f.write(\"# vtk DataFile Version 4.2\\n\")\n",
    "        f.write(\"vtk output\\n\")\n",
    "        f.write(\"ASCII\\n\")\n",
    "        f.write(\"DATASET POLYDATA\\n\")\n",
    "        \n",
    "        # Write points\n",
    "        num_points = len(points)\n",
    "        f.write(\"POINTS {} float\\n\".format(num_points))\n",
    "        for point in points:\n",
    "            f.write(\"{} {} {}\\n\".format(point[0], point[1], point[2]))\n",
    "        \n",
    "        # Write cells\n",
    "        num_cells = len(cell)\n",
    "        total_num_points = np.sum(cell[:, 0])\n",
    "        f.write(\"POLYGONS {} {}\\n\".format(num_cells, total_num_points + num_cells))\n",
    "        for cell_indices in cell:\n",
    "            num_indices = cell_indices[0]\n",
    "            f.write(\"{} \".format(num_indices))\n",
    "            for index in cell_indices[1:]:\n",
    "                f.write(\"{} \".format(index))\n",
    "            f.write(\"\\n\")\n"
   ]
  },
  {
   "cell_type": "code",
   "execution_count": 4,
   "id": "025ad8ab",
   "metadata": {},
   "outputs": [],
   "source": [
    "filename1 = r'C:\\Users\\ullri\\OneDrive\\prog_egyetem\\projectAI\\FemurData\\meshes_vtk\\m03_L_femur.vtk'\n",
    "filename2 = r'C:\\Users\\ullri\\OneDrive\\prog_egyetem\\projectAI\\test1del.vtk'\n",
    "#read file and create 2 np.arrays for the coordinates and cells\n",
    "cell, node = readfile(filename1)\n",
    "visualize(filename1)"
   ]
  },
  {
   "cell_type": "code",
   "execution_count": 5,
   "id": "5209f4ef",
   "metadata": {},
   "outputs": [],
   "source": [
    "#read 2 arrays and from these create a vtk file format\n",
    "write_vtk(node, cell, \"test2.vtk\")\n"
   ]
  },
  {
   "cell_type": "code",
   "execution_count": 6,
   "id": "054c48d8",
   "metadata": {},
   "outputs": [],
   "source": [
    "visualize(\"test2.vtk\")\n"
   ]
  },
  {
   "cell_type": "code",
   "execution_count": null,
   "id": "ad129339",
   "metadata": {},
   "outputs": [],
   "source": []
  }
 ],
 "metadata": {
  "kernelspec": {
   "display_name": "Python 3 (ipykernel)",
   "language": "python",
   "name": "python3"
  },
  "language_info": {
   "codemirror_mode": {
    "name": "ipython",
    "version": 3
   },
   "file_extension": ".py",
   "mimetype": "text/x-python",
   "name": "python",
   "nbconvert_exporter": "python",
   "pygments_lexer": "ipython3",
   "version": "3.9.13"
  },
  "toc": {
   "base_numbering": 1,
   "nav_menu": {},
   "number_sections": true,
   "sideBar": true,
   "skip_h1_title": false,
   "title_cell": "Table of Contents",
   "title_sidebar": "Contents",
   "toc_cell": false,
   "toc_position": {},
   "toc_section_display": true,
   "toc_window_display": false
  }
 },
 "nbformat": 4,
 "nbformat_minor": 5
}
