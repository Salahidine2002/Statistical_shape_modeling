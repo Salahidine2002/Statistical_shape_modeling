{
 "cells": [
  {
   "cell_type": "code",
   "execution_count": 1,
   "id": "25662cf2",
   "metadata": {},
   "outputs": [],
   "source": [
    "import numpy as np\n",
    "import pyvista as pv\n",
    "import random\n",
    "#import math\n",
    "import vtk\n",
    "from vtk import vtkAppendPolyData, vtkPolyDataReader, vtkPolyDataWriter, vtkPolyData, vtkUnstructuredGridReader\n",
    "from vtk.util.numpy_support import vtk_to_numpy\n"
   ]
  },
  {
   "cell_type": "code",
   "execution_count": 2,
   "id": "f38b0bdb",
   "metadata": {},
   "outputs": [],
   "source": [
    "def write_vtk(points, cell, filename):\n",
    "    with open(filename, 'w') as f:\n",
    "        # Write header\n",
    "        f.write(\"# vtk DataFile Version 4.2\\n\")\n",
    "        f.write(\"vtk output\\n\")\n",
    "        f.write(\"ASCII\\n\")\n",
    "        f.write(\"DATASET POLYDATA\\n\")\n",
    "        \n",
    "        # Write points\n",
    "        num_points = len(points)\n",
    "        f.write(\"POINTS {} float\\n\".format(num_points))\n",
    "        for point in points:\n",
    "            f.write(\"{} {} {}\\n\".format(point[0], point[1], point[2]))\n",
    "        \n",
    "        # Write cells\n",
    "        num_cells = len(cell)\n",
    "        total_num_points = np.sum(cell[:, 0])\n",
    "        f.write(\"POLYGONS {} {}\\n\".format(num_cells, total_num_points + num_cells))\n",
    "        for cell_indices in cell:\n",
    "            num_indices = cell_indices[0]\n",
    "            f.write(\"{} \".format(num_indices))\n",
    "            for index in cell_indices[1:]:\n",
    "                f.write(\"{} \".format(index))\n",
    "            f.write(\"\\n\")\n",
    "\n",
    "def visualize(nameOfFile):\n",
    "    # Load the VTK file\n",
    "    reader = vtk.vtkPolyDataReader()\n",
    "    reader.SetFileName(nameOfFile)\n",
    "    reader.Update()\n",
    "\n",
    "    # Create a mapper\n",
    "    mapper = vtk.vtkPolyDataMapper()\n",
    "    mapper.SetInputConnection(reader.GetOutputPort())\n",
    "\n",
    "    # Create an actor\n",
    "    actor = vtk.vtkActor()\n",
    "    actor.SetMapper(mapper)\n",
    "\n",
    "    # Create a renderer and add the actor to it\n",
    "    renderer = vtk.vtkRenderer()\n",
    "    renderer.AddActor(actor)\n",
    "\n",
    "    # Create a render window and set the renderer as its active renderer\n",
    "    renderWindow = vtk.vtkRenderWindow()\n",
    "    renderWindow.AddRenderer(renderer)\n",
    "    renderWindow.SetSize(600, 600)\n",
    "    renderer.ResetCamera()\n",
    "\n",
    "    # Create an interactor and start the visualization\n",
    "    interactor = vtk.vtkRenderWindowInteractor()\n",
    "    interactor.SetRenderWindow(renderWindow)\n",
    "    interactor.Start()\n",
    "    \n",
    "def readfile(filename):\n",
    "    reader = vtk.vtkGenericDataObjectReader()\n",
    "    reader.SetFileName(filename)\n",
    "    reader.Update()\n",
    "\n",
    "    polydata = reader.GetOutput()\n",
    "\n",
    "    points = polydata.GetPoints()\n",
    "    array = points.GetData()\n",
    "    numpy_nodes = vtk_to_numpy(array)\n",
    "    #print(numpy_nodes)\n",
    "    cells = polydata.GetPolys()\n",
    "    nCells = cells.GetNumberOfCells()\n",
    "    array = cells.GetData()\n",
    "    # This holds true if all polys are of the same kind, e.g. triangles.\n",
    "    assert(array.GetNumberOfValues()%nCells==0)\n",
    "    nCols = array.GetNumberOfValues()//nCells\n",
    "    numpy_cells = vtk_to_numpy(array)\n",
    "    numpy_cells = numpy_cells.reshape((-1,nCols))\n",
    "    return numpy_cells, numpy_nodes"
   ]
  },
  {
   "cell_type": "code",
   "execution_count": 23,
   "id": "0cfc6cb7",
   "metadata": {},
   "outputs": [],
   "source": [
    "def generate_tetrahedron(edge_size = 3, mod = 0, noise = 0, img = 0):\n",
    "    #This function generate tetrahedron\n",
    "    #the output are the nodes, cells and Pyvista mesh\n",
    "    #for this function you need numpy and pyvista modules\n",
    "    vertices = np.array([[0, 0, 0], [edge_size, 0, 0], [0, edge_size, 0], [0, 0, edge_size]])\n",
    "\n",
    "    # Define the indices of the faces of the tetrahedron\n",
    "    faces = np.array([[0, 2, 1], [0, 1, 3], [0, 3, 2], [1, 2, 3]])\n",
    "\n",
    "    # Calculate the center point of each face\n",
    "    face_centers = np.array([vertices[face].mean(axis=0) for face in faces])\n",
    "    \n",
    "\n",
    "    # Combine the vertices and face centers to create the final set of points\n",
    "    points = np.concatenate((vertices, face_centers) )\n",
    "    \n",
    "    \n",
    "    # Manually mesh and cells\n",
    "    mesh = np.array([[3, 0, 1, 4], [3, 0, 4, 2], [3, 2, 4, 1], #1\n",
    "                     [3, 0, 5, 3], [3, 0, 5, 1], [3, 5, 3, 1], #2\n",
    "                     [3, 0, 6, 2], [3, 0, 6, 3], [3, 6, 3, 2], #3\n",
    "                     [3, 3, 7, 1], [3, 3, 7, 2], [3, 7, 2, 1], #4\n",
    "                     ])\n",
    "    \n",
    "    #calculate original bigger faces normalvectors\n",
    "    normals = []\n",
    "    for f in faces:\n",
    "        v1 = vertices[f[1]] - vertices[f[0]]\n",
    "        v2 = vertices[f[2]] - vertices[f[0]]\n",
    "        normal = np.cross(v1, v2)\n",
    "        normals.append(normal)\n",
    "\n",
    "    normals = np.array(normals)\n",
    "    for v in range(len(normals)):\n",
    "        n = np.linalg.norm(normals[v])\n",
    "        normals[v] = normals[v] / n\n",
    "    \n",
    "    #if the mod input is a non-zero number, the face center points shift for the normal vector positive or negative direction\n",
    "    if mod != 0:\n",
    "        for p in range(len(face_centers)):\n",
    "            r = random.uniform(-edge_size/3 +0.1, edge_size/3 -0.1)\n",
    "            face_centers[p] = face_centers[p] + normals[p]*r\n",
    "            \n",
    "        new_points = np.concatenate((vertices, face_centers))\n",
    "        print(points, new_points)\n",
    "    else:\n",
    "        #else they don't shift\n",
    "        new_points = np.concatenate((vertices, face_centers))\n",
    "    \n",
    "    #if the noise input is non-zero number, each point of the mesh got noise, that means random values are added to each coordinate\n",
    "    if noise != 0:\n",
    "        new_points = new_points + np.random.random((len(new_points), 3)) / 9.21 * np.random.choice([-1, 1], size=(len(new_points), 3))\n",
    "        \n",
    "    #else there isn't noise\n",
    "    else:\n",
    "        new_points = np.concatenate((vertices, face_centers))\n",
    "        \n",
    "    #create generated mesh with pyvista module\n",
    "    #add the array of points/nodes and array of cells\n",
    "    genMesh = pv.PolyData(new_points, mesh)\n",
    "\n",
    "    # Plot the mesh if img is non-zero\n",
    "    if img != 0:\n",
    "        plotter = pv.Plotter(notebook = 0)\n",
    "        plotter.show_axes()\n",
    "        plotter.add_mesh(genMesh, show_edges=True)\n",
    "        plotter.show()\n",
    "    \n",
    "    \n",
    "    \n",
    "    return mesh, new_points, genMesh\n"
   ]
  },
  {
   "cell_type": "code",
   "execution_count": 26,
   "id": "11d363fb",
   "metadata": {},
   "outputs": [],
   "source": [
    "#cells_10, nodes_10, Mesh_10 = generate_tetrahedron(edge_size = 10,mod= 1, noise = 1, img = 1)\n",
    "cells_1, nodes_1, Mesh_1 = generate_tetrahedron(edge_size = 3,mod= 0, noise = 0, img = 1)\n",
    "#shift = np.array([0,0,13])\n",
    "#nodes_1 = nodes_1 + shift"
   ]
  },
  {
   "cell_type": "markdown",
   "id": "434b4924",
   "metadata": {},
   "source": [
    "From here this is the generated dataset for the classification.."
   ]
  },
  {
   "cell_type": "code",
   "execution_count": 54,
   "id": "cb74e6a9",
   "metadata": {},
   "outputs": [],
   "source": [
    "#generate 80 regular tetrahedreron shapes\n",
    "ALL_regular_cells = []\n",
    "ALL_regular_nodes = []\n",
    "ALL_regular_Meshes = []\n",
    "regular_edge_size = np.random.uniform(low=3, high=10, size=80)\n",
    "for i in range(len(regular_edge_size)):\n",
    "    cells, nodes, Mesh = generate_tetrahedron(edge_size = regular_edge_size[i] ,mod= 0, noise = 0, img = 0)\n",
    "    ALL_regular_cells.append(cells)\n",
    "    ALL_regular_nodes.append(nodes)\n",
    "    ALL_regular_Meshes.append(Mesh)\n",
    "    \n",
    "#generate 20 unregular tetrahedreron shapes\n",
    "ALL_UNregular_cells = []\n",
    "ALL_UNregular_nodes = []\n",
    "ALL_UNregular_Meshes = []\n",
    "UNregular_edge_size = np.random.uniform(low=3.1, high=10.1, size=20)\n",
    "for i in range(len(UNregular_edge_size)):\n",
    "    cells, nodes, Mesh = generate_tetrahedron(edge_size = UNregular_edge_size[i] ,mod= 0, noise = 1, img = 0)\n",
    "    ALL_UNregular_cells.append(cells)\n",
    "    ALL_UNregular_nodes.append(nodes)\n",
    "    ALL_UNregular_Meshes.append(Mesh)\n",
    "\n",
    "#the cells are same in every case\n",
    "ALL_cells = ALL_regular_cells + ALL_UNregular_cells\n",
    "#the nodes are NOT same\n",
    "ALL_nodes = ALL_regular_nodes + ALL_UNregular_nodes\n",
    "#\n",
    "ALL_Meshes = ALL_regular_Meshes + ALL_UNregular_Meshes\n",
    "\n"
   ]
  },
  {
   "cell_type": "code",
   "execution_count": null,
   "id": "1fe84632",
   "metadata": {},
   "outputs": [],
   "source": [
    "plotter = pv.Plotter(notebook = 0)\n",
    "plotter.show_axes()\n",
    "plotter.add_mesh(ALL_Meshes[5], show_edges=True)\n",
    "plotter.show()"
   ]
  },
  {
   "cell_type": "code",
   "execution_count": null,
   "id": "e2c8d823",
   "metadata": {},
   "outputs": [],
   "source": []
  },
  {
   "cell_type": "code",
   "execution_count": 56,
   "id": "505f92e4",
   "metadata": {},
   "outputs": [],
   "source": []
  },
  {
   "cell_type": "code",
   "execution_count": 9,
   "id": "8624a66b",
   "metadata": {},
   "outputs": [],
   "source": [
    "#to save the shape in vtk file \n",
    "\n",
    "write_vtk(nodes_10, cells_10, \"thetraeder_10.vtk\")\n",
    "write_vtk(nodes_1, cells_1, \"thetraeder_1.vtk\")\n",
    "\n",
    "#visualize(\"thetraeder.vtk\")"
   ]
  },
  {
   "cell_type": "code",
   "execution_count": 10,
   "id": "07aab7d7",
   "metadata": {},
   "outputs": [
    {
     "data": {
      "text/plain": [
       "1"
      ]
     },
     "execution_count": 10,
     "metadata": {},
     "output_type": "execute_result"
    }
   ],
   "source": [
    "reader = vtkPolyDataReader()#vtkUnstructuredGridReader()vtkPolyDataReader()\n",
    "append = vtkAppendPolyData()\n",
    "\n",
    "filenames = ['thetraeder_10.vtk', 'thetraeder_1.vtk']\n",
    "for file in filenames:\n",
    "    reader.SetFileName(file)\n",
    "    reader.Update()\n",
    "    polydata = vtkPolyData()\n",
    "    polydata.ShallowCopy(reader.GetOutput())\n",
    "    append.AddInputData(polydata)\n",
    "\n",
    "append.Update()    \n",
    "\n",
    "writer = vtkPolyDataWriter()\n",
    "writer.SetFileName('output.vtk')\n",
    "writer.SetInputData(append.GetOutput())\n",
    "writer.Write()"
   ]
  },
  {
   "cell_type": "code",
   "execution_count": 7,
   "id": "2b661ff8",
   "metadata": {},
   "outputs": [],
   "source": [
    "#visualize(\"output.vtk\")"
   ]
  },
  {
   "cell_type": "code",
   "execution_count": 11,
   "id": "9ec3e41d",
   "metadata": {},
   "outputs": [],
   "source": [
    "c, n = readfile(\"output.vtk\")\n",
    "genMesh = pv.PolyData(n, c)\n",
    "\n",
    "# Plot the mesh if img is non-zero\n",
    "plotter = pv.Plotter(notebook = 0)\n",
    "plotter.show_axes()\n",
    "plotter.add_mesh(genMesh, show_edges=True)\n",
    "plotter.show()"
   ]
  },
  {
   "cell_type": "code",
   "execution_count": 32,
   "id": "699ed822",
   "metadata": {},
   "outputs": [
    {
     "data": {
      "text/plain": [
       "12"
      ]
     },
     "execution_count": 32,
     "metadata": {},
     "output_type": "execute_result"
    }
   ],
   "source": [
    "len(cells_1)"
   ]
  },
  {
   "cell_type": "code",
   "execution_count": 17,
   "id": "18940253",
   "metadata": {},
   "outputs": [
    {
     "data": {
      "text/plain": [
       "array([0.21756379])"
      ]
     },
     "execution_count": 17,
     "metadata": {},
     "output_type": "execute_result"
    }
   ],
   "source": [
    "np.random.random(1)"
   ]
  },
  {
   "cell_type": "code",
   "execution_count": null,
   "id": "a268dab7",
   "metadata": {},
   "outputs": [],
   "source": []
  }
 ],
 "metadata": {
  "kernelspec": {
   "display_name": "Python 3 (ipykernel)",
   "language": "python",
   "name": "python3"
  },
  "language_info": {
   "codemirror_mode": {
    "name": "ipython",
    "version": 3
   },
   "file_extension": ".py",
   "mimetype": "text/x-python",
   "name": "python",
   "nbconvert_exporter": "python",
   "pygments_lexer": "ipython3",
   "version": "3.9.13"
  },
  "toc": {
   "base_numbering": 1,
   "nav_menu": {},
   "number_sections": true,
   "sideBar": true,
   "skip_h1_title": false,
   "title_cell": "Table of Contents",
   "title_sidebar": "Contents",
   "toc_cell": false,
   "toc_position": {},
   "toc_section_display": true,
   "toc_window_display": false
  }
 },
 "nbformat": 4,
 "nbformat_minor": 5
}
