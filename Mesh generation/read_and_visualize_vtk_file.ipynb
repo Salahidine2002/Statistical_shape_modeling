{
 "cells": [
  {
   "cell_type": "code",
   "execution_count": 18,
   "id": "679853e0",
   "metadata": {},
   "outputs": [],
   "source": [
    "import numpy as np\n",
    "import shapeworks as sw\n",
    "import vtk\n",
    "from vtk.util.numpy_support import vtk_to_numpy\n"
   ]
  },
  {
   "cell_type": "code",
   "execution_count": 19,
   "id": "490f8d9a",
   "metadata": {},
   "outputs": [],
   "source": [
    "def visualize(nameOfFile):\n",
    "    # Load the VTK file\n",
    "    reader = vtk.vtkPolyDataReader()\n",
    "    reader.SetFileName(nameOfFile)\n",
    "    reader.Update()\n",
    "\n",
    "    # Create a mapper\n",
    "    mapper = vtk.vtkPolyDataMapper()\n",
    "    mapper.SetInputConnection(reader.GetOutputPort())\n",
    "\n",
    "    # Create an actor\n",
    "    actor = vtk.vtkActor()\n",
    "    actor.SetMapper(mapper)\n",
    "\n",
    "    # Create a renderer and add the actor to it\n",
    "    renderer = vtk.vtkRenderer()\n",
    "    renderer.AddActor(actor)\n",
    "\n",
    "    # Create a render window and set the renderer as its active renderer\n",
    "    renderWindow = vtk.vtkRenderWindow()\n",
    "    renderWindow.AddRenderer(renderer)\n",
    "    renderWindow.SetSize(600, 600)\n",
    "    renderer.ResetCamera()\n",
    "\n",
    "    # Create an interactor and start the visualization\n",
    "    interactor = vtk.vtkRenderWindowInteractor()\n",
    "    interactor.SetRenderWindow(renderWindow)\n",
    "    interactor.Start()\n"
   ]
  },
  {
   "cell_type": "code",
   "execution_count": 20,
   "id": "b1f0f534",
   "metadata": {},
   "outputs": [],
   "source": [
    "def readfile(filename):\n",
    "    reader = vtk.vtkGenericDataObjectReader()\n",
    "    reader.SetFileName(filename)\n",
    "    reader.Update()\n",
    "\n",
    "    polydata = reader.GetOutput()\n",
    "\n",
    "    points = polydata.GetPoints()\n",
    "    array = points.GetData()\n",
    "    numpy_nodes = vtk_to_numpy(array)\n",
    "    #print(numpy_nodes)\n",
    "    cells = polydata.GetPolys()\n",
    "    nCells = cells.GetNumberOfCells()\n",
    "    array = cells.GetData()\n",
    "    # This holds true if all polys are of the same kind, e.g. triangles.\n",
    "    assert(array.GetNumberOfValues()%nCells==0)\n",
    "    nCols = array.GetNumberOfValues()//nCells\n",
    "    numpy_cells = vtk_to_numpy(array)\n",
    "    numpy_cells = numpy_cells.reshape((-1,nCols))\n",
    "    return numpy_cells, numpy_nodes\n"
   ]
  },
  {
   "cell_type": "code",
   "execution_count": 21,
   "id": "a892b676",
   "metadata": {},
   "outputs": [],
   "source": [
    "filename1 = r'C:\\Users\\ullri\\OneDrive\\prog_egyetem\\projectAI\\FemurData\\meshes_vtk\\m03_L_femur.vtk'\n",
    "filename2 = r'C:\\Users\\ullri\\OneDrive\\prog_egyetem\\projectAI\\test1del.vtk'\n",
    "readfile(filename1)\n",
    "visualize(filename1)"
   ]
  },
  {
   "cell_type": "code",
   "execution_count": null,
   "id": "daf731f8",
   "metadata": {},
   "outputs": [],
   "source": []
  }
 ],
 "metadata": {
  "kernelspec": {
   "display_name": "Python 3 (ipykernel)",
   "language": "python",
   "name": "python3"
  },
  "language_info": {
   "codemirror_mode": {
    "name": "ipython",
    "version": 3
   },
   "file_extension": ".py",
   "mimetype": "text/x-python",
   "name": "python",
   "nbconvert_exporter": "python",
   "pygments_lexer": "ipython3",
   "version": "3.7.12"
  },
  "toc": {
   "base_numbering": 1,
   "nav_menu": {},
   "number_sections": true,
   "sideBar": true,
   "skip_h1_title": false,
   "title_cell": "Table of Contents",
   "title_sidebar": "Contents",
   "toc_cell": false,
   "toc_position": {},
   "toc_section_display": true,
   "toc_window_display": false
  }
 },
 "nbformat": 4,
 "nbformat_minor": 5
}
