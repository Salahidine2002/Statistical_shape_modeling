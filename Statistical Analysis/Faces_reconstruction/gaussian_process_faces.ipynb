{
 "cells": [
  {
   "attachments": {},
   "cell_type": "markdown",
   "metadata": {},
   "source": [
    "## Gaussian process regression on faces dataset ##"
   ]
  },
  {
   "attachments": {},
   "cell_type": "markdown",
   "metadata": {},
   "source": [
    "Importing necessary packages"
   ]
  },
  {
   "cell_type": "code",
   "execution_count": 1,
   "metadata": {},
   "outputs": [
    {
     "name": "stderr",
     "output_type": "stream",
     "text": [
      "\n",
      "Bad key text.latex.preview in file c:\\RoboDK\\Python37\\lib\\site-packages\\matplotlib\\mpl-data\\stylelib\\_classic_test.mplstyle, line 123 ('text.latex.preview : False')\n",
      "You probably need to get an updated matplotlibrc file from\n",
      "https://github.com/matplotlib/matplotlib/blob/v3.5.3/matplotlibrc.template\n",
      "or from the matplotlib source distribution\n",
      "\n",
      "Bad key mathtext.fallback_to_cm in file c:\\RoboDK\\Python37\\lib\\site-packages\\matplotlib\\mpl-data\\stylelib\\_classic_test.mplstyle, line 155 ('mathtext.fallback_to_cm : True  # When True, use symbols from the Computer Modern')\n",
      "You probably need to get an updated matplotlibrc file from\n",
      "https://github.com/matplotlib/matplotlib/blob/v3.5.3/matplotlibrc.template\n",
      "or from the matplotlib source distribution\n",
      "\n",
      "Bad key savefig.jpeg_quality in file c:\\RoboDK\\Python37\\lib\\site-packages\\matplotlib\\mpl-data\\stylelib\\_classic_test.mplstyle, line 418 ('savefig.jpeg_quality: 95       # when a jpeg is saved, the default quality parameter.')\n",
      "You probably need to get an updated matplotlibrc file from\n",
      "https://github.com/matplotlib/matplotlib/blob/v3.5.3/matplotlibrc.template\n",
      "or from the matplotlib source distribution\n",
      "\n",
      "Bad key keymap.all_axes in file c:\\RoboDK\\Python37\\lib\\site-packages\\matplotlib\\mpl-data\\stylelib\\_classic_test.mplstyle, line 466 ('keymap.all_axes : a                 # enable all axes')\n",
      "You probably need to get an updated matplotlibrc file from\n",
      "https://github.com/matplotlib/matplotlib/blob/v3.5.3/matplotlibrc.template\n",
      "or from the matplotlib source distribution\n",
      "\n",
      "Bad key animation.avconv_path in file c:\\RoboDK\\Python37\\lib\\site-packages\\matplotlib\\mpl-data\\stylelib\\_classic_test.mplstyle, line 477 ('animation.avconv_path: avconv     # Path to avconv binary. Without full path')\n",
      "You probably need to get an updated matplotlibrc file from\n",
      "https://github.com/matplotlib/matplotlib/blob/v3.5.3/matplotlibrc.template\n",
      "or from the matplotlib source distribution\n",
      "\n",
      "Bad key animation.avconv_args in file c:\\RoboDK\\Python37\\lib\\site-packages\\matplotlib\\mpl-data\\stylelib\\_classic_test.mplstyle, line 479 ('animation.avconv_args:            # Additional arguments to pass to avconv')\n",
      "You probably need to get an updated matplotlibrc file from\n",
      "https://github.com/matplotlib/matplotlib/blob/v3.5.3/matplotlibrc.template\n",
      "or from the matplotlib source distribution\n"
     ]
    }
   ],
   "source": [
    "import numpy as np\n",
    "from scipy import spatial, optimize\n",
    "from sklearn.gaussian_process.kernels import Matern, WhiteKernel, ConstantKernel\n",
    "import matplotlib.pylab as plt\n",
    "import vtk\n",
    "import vtkplotlib as vpl\n",
    "from vtk.util.numpy_support import vtk_to_numpy\n",
    "import os\n",
    "from scipy import spatial\n",
    "from sklearn.decomposition import PCA"
   ]
  },
  {
   "attachments": {},
   "cell_type": "markdown",
   "metadata": {},
   "source": [
    "Defining preprocessing and visualization functions"
   ]
  },
  {
   "cell_type": "code",
   "execution_count": 2,
   "metadata": {},
   "outputs": [],
   "source": [
    "def readfile(filename):\n",
    "    \"\"\"Function : Reads the shape's cooridinates from a vtk file\n",
    "        Inputs : \n",
    "             - filename : the path to the vtk file \n",
    "        Output : \n",
    "             - numpy_cells : the mesh wiring \n",
    "             - numpy_nodes : the mesh points \n",
    "    \"\"\"\n",
    "    reader = vtk.vtkGenericDataObjectReader()\n",
    "    reader.SetFileName(filename)\n",
    "    reader.Update()\n",
    "\n",
    "    polydata = reader.GetOutput()\n",
    "\n",
    "    points = polydata.GetPoints()\n",
    "    array = points.GetData()\n",
    "    numpy_nodes = vtk_to_numpy(array)\n",
    "    #print(numpy_nodes)\n",
    "    cells = polydata.GetPolys()\n",
    "    nCells = cells.GetNumberOfCells()\n",
    "    array = cells.GetData()\n",
    "    # This holds true if all polys are of the same kind, e.g. triangles.\n",
    "    assert(array.GetNumberOfValues()%nCells==0)\n",
    "    nCols = array.GetNumberOfValues()//nCells\n",
    "    numpy_cells = vtk_to_numpy(array)\n",
    "    numpy_cells = numpy_cells.reshape((-1,nCols))\n",
    "    return numpy_cells, numpy_nodes\n",
    "\n",
    "def write_vtk(points, cell, filename):\n",
    "    \"\"\"Function : Save a shape in a given vtk file\n",
    "        Inputs : \n",
    "             - points : the mesh points\n",
    "             - cell : the mesh wiring \n",
    "             - filename : the path to the vtk file \n",
    "    \"\"\"\n",
    "    with open(filename, 'w') as f:\n",
    "        # Write header\n",
    "        f.write(\"# vtk DataFile Version 4.2\\n\")\n",
    "        f.write(\"vtk output\\n\")\n",
    "        f.write(\"ASCII\\n\")\n",
    "        f.write(\"DATASET POLYDATA\\n\")\n",
    "        \n",
    "        # Write points\n",
    "        num_points = len(points)\n",
    "        f.write(\"POINTS {} float\\n\".format(num_points))\n",
    "        for point in points:\n",
    "            f.write(\"{} {} {}\\n\".format(point[0], point[1], point[2]))\n",
    "        \n",
    "        # Write cells\n",
    "        num_cells = len(cell)\n",
    "        total_num_points = np.sum(cell[:, 0])\n",
    "        f.write(\"POLYGONS {} {}\\n\".format(num_cells, total_num_points + num_cells))\n",
    "        for cell_indices in cell:\n",
    "            num_indices = cell_indices[0]\n",
    "            f.write(\"{} \".format(num_indices))\n",
    "            for index in cell_indices[1:]:\n",
    "                f.write(\"{} \".format(index))\n",
    "            f.write(\"\\n\")\n",
    "\n",
    "def visualize(nameOfFile):\n",
    "    \"\"\"Function : Visualize a shape saved in a given file\n",
    "        Inputs : \n",
    "             - filename : the path to the vtk file  \n",
    "    \"\"\"\n",
    "\n",
    "        # Load the VTK file\n",
    "    reader = vtk.vtkPolyDataReader()\n",
    "    reader.SetFileName(nameOfFile)\n",
    "    reader.Update()\n",
    "\n",
    "    # Create a mapper\n",
    "    mapper = vtk.vtkPolyDataMapper()\n",
    "    mapper.SetInputConnection(reader.GetOutputPort())\n",
    "\n",
    "    # Create an actor\n",
    "    actor = vtk.vtkActor()\n",
    "    actor.SetMapper(mapper)\n",
    "\n",
    "    # Create a renderer and add the actor to it\n",
    "    renderer = vtk.vtkRenderer()\n",
    "    renderer.AddActor(actor)\n",
    "\n",
    "    # Create a render window and set the renderer as its active renderer\n",
    "    renderWindow = vtk.vtkRenderWindow()\n",
    "    renderWindow.AddRenderer(renderer)\n",
    "    renderWindow.SetSize(600, 600)\n",
    "    renderer.ResetCamera()\n",
    "\n",
    "    # Create an interactor and start the visualization\n",
    "    interactor = vtk.vtkRenderWindowInteractor()\n",
    "    interactor.SetRenderWindow(renderWindow)\n",
    "    interactor.Start()\n",
    "\n",
    "def unmake_xy(shape):\n",
    "    \"\"\"Function : Unflattens a shape that has 1D vector format to 3D fromat\n",
    "        Inputs : \n",
    "             - shape : vector of concatenated point's coordinates \n",
    "        Output :\n",
    "             - Shape_3d : list of the 3D points of the shape\n",
    "    \"\"\"\n",
    "    return np.vstack([shape[range(0, len(shape), 3)],shape[range(1, len(shape), 3)], shape[range(2, len(shape), 3)]]).T\n",
    "\n",
    "def make_xy(hand) :\n",
    "    \"\"\"Function : Flattens a shape that has 3D vector format to 1D format\n",
    "        Inputs : \n",
    "             - Shape_3d : list of the 3D points of the shape\n",
    "        Output :\n",
    "             - shape : vector of concatenated point's coordinates \n",
    "             \n",
    "    \"\"\"\n",
    "    return hand.flatten()\n",
    "\n",
    "def My_Visualize(Faces_List=[], Wiring=[], colors=[], Scatter=[0]):\n",
    "    \"\"\"Function : Visualize multiple 3D shapes and scatter some given points\n",
    "        Inputs : \n",
    "             - Faces_List : the list of the 3D meshes (Tables of points)\n",
    "             - Wiring : the cells table that describs the how the points are linked in the mesh\n",
    "             - colors : list of the colors of each mesh\n",
    "             - Scatter : Indexes of the points to scatter in the shape\n",
    "    \"\"\"\n",
    "    mesh = Faces_List[0][Wiring][:, 1:]\n",
    "    offset = np.zeros(mesh.shape)\n",
    "    vpl.figure(\"Face\")\n",
    "    for i in range(len(Faces_List)) :\n",
    "        mesh = Faces_List[i][Wiring][:, 1:] + offset\n",
    "        vpl.mesh_plot(mesh, color=colors[i])\n",
    "        offset[:, :, 0] += 2\n",
    "    if Scatter[0]:\n",
    "        vpl.scatter(Faces_List[0][Scatter], radius=0.0001, color='r')\n",
    "    vpl.show()"
   ]
  },
  {
   "attachments": {},
   "cell_type": "markdown",
   "metadata": {},
   "source": [
    "Defining gaussian process regressors class"
   ]
  },
  {
   "cell_type": "code",
   "execution_count": 3,
   "metadata": {},
   "outputs": [],
   "source": [
    "# This class will define the gaussian process regressors for general use \n",
    "\n",
    "class GPregressor :\n",
    "    def __init__(self, Input_dim, Nb_points, kernel):\n",
    "        \"\"\"Initializing the GPR parameters :\n",
    "            Inputs : \n",
    "                - Input_dim : the dimentionality of the input (in 3D shapes Input_dim=3) \n",
    "                - Nb_points : the number of points in the training dataset\n",
    "                - kernel : the covariance function it will use\n",
    "        \"\"\"\n",
    "        self.dim_i = Input_dim\n",
    "        self.Nb = Nb_points\n",
    "        self.kernel = kernel\n",
    "        self.Cov_mat = []\n",
    "\n",
    "    def unmake_xy(self, hand):\n",
    "        \"\"\"Function : Unflattens a shape that has 1D vector format to 3D fromat\n",
    "        Inputs : \n",
    "             - shape : vector of concatenated point's coordinates \n",
    "        Output :\n",
    "             - Shape_3d : list of the 3D points of the shape\n",
    "        \"\"\"\n",
    "        return np.vstack([hand[range(0, len(hand), 3)], hand[range(1, len(hand), 3)], hand[range(2, len(hand), 3)]]).T\n",
    "\n",
    "    def make_xy(self, hand) :\n",
    "        \"\"\"Function : Flattens a shape that has 3D vector format to 1D format\n",
    "        Inputs : \n",
    "             - Shape_3d : list of the 3D points of the shape\n",
    "        Output :\n",
    "             - shape : vector of concatenated point's coordinates \n",
    "             \n",
    "        \"\"\"\n",
    "        return hand.flatten()\n",
    "\n",
    "    def Cov_func(self, Points):\n",
    "        \"\"\"Function : Computes the reduced covariance matrix given a list of points using the specified kernel\"\"\"\n",
    "        #kernel = 1.0 * Matern(length_scale=l, nu=n)+ ConstantKernel()+ WhiteKernel(noise_level=0.001)\n",
    "        return self.kernel(Points)\n",
    "\n",
    "    def fit(self, Training_shapes) :\n",
    "\n",
    "        \"\"\"Function : Train the model on multiple Training shapes \n",
    "            Inputs : \n",
    "                - Training_shapes : list of all the shapes in the train dataset\n",
    "            Outputs :\n",
    "                - Updates the GPR covariance matrix \n",
    "        \"\"\"\n",
    "\n",
    "        ## Initializing the reduced cov matrix\n",
    "        Reduced_cov = np.zeros((self.Nb, self.Nb))\n",
    "        for i in range(len(Training_shapes)) :\n",
    "            # Computing the reduced covariance matrix for each shape deformation in the training set\n",
    "            Reduced_cov += self.Cov_func(self.unmake_xy(Training_shapes[i, :]))\n",
    "\n",
    "        Reduced_cov /= len(Training_shapes)\n",
    "\n",
    "        # Computing the covariance matrix from the reduced form \n",
    "        Cov_matrix = np.zeros((self.dim_i*Reduced_cov.shape[0], self.dim_i*Reduced_cov.shape[0]))\n",
    "        for i in range(self.Nb):\n",
    "            for j in range(self.Nb) :\n",
    "                Cov_matrix[self.dim_i*i:self.dim_i*(i+1), self.dim_i*j:self.dim_i*(j+1)] = Reduced_cov[i, j]*np.eye(self.dim_i)\n",
    "        \n",
    "        self.Cov_mat = Cov_matrix\n",
    "\n",
    "    def predict(self, Incomplete_shape, Indexes) :\n",
    "        \"\"\"Function : Predicts the missing regions of an incompete mesh\n",
    "            Inputs : \n",
    "                - Incomplete_shape : a flat vector representing the mesh \n",
    "                - Indexes : list of the missing points Indexes\n",
    "            Outputs :\n",
    "                - Zipped_data : return the complete input shape by filling the missing nodes \n",
    "        \"\"\"\n",
    "\n",
    "        # Defining the set of observed deformation \n",
    "        observed_points = Incomplete_shape[Indexes==1]\n",
    "\n",
    "        # Defining the blocks of covariance matrix \n",
    "        Kxy = self.Cov_mat[Indexes==0, :][:, Indexes==1]\n",
    "        Kyy = self.Cov_mat[Indexes==1, :][:, Indexes==1]\n",
    "\n",
    "        # Computing the posterior mean shape\n",
    "        Predicted_points = Kxy@np.linalg.inv(Kyy)@observed_points\n",
    "\n",
    "        # Combining the predicted deformations with the observed ones \n",
    "        Zipped_data = np.zeros(Incomplete_shape.shape)\n",
    "        Zipped_data[Indexes==0] = Predicted_points\n",
    "        Zipped_data[Indexes==1] = observed_points\n",
    "\n",
    "        return Zipped_data"
   ]
  },
  {
   "attachments": {},
   "cell_type": "markdown",
   "metadata": {},
   "source": [
    "Reading and preprocessing (Aligning) the data"
   ]
  },
  {
   "cell_type": "code",
   "execution_count": 4,
   "metadata": {},
   "outputs": [
    {
     "data": {
      "text/plain": [
       "(10, 159447)"
      ]
     },
     "execution_count": 4,
     "metadata": {},
     "output_type": "execute_result"
    }
   ],
   "source": [
    "## Reading the shapes already aligned (using proscrutes) and stored in Aligned_data folder \n",
    "path = '../../Aligned_data/'\n",
    "\n",
    "L = os.listdir(path)\n",
    "Dataset = []\n",
    "Wiring = []\n",
    "\n",
    "for f in L :\n",
    "    if 'vtk' in f :\n",
    "       Tab, Tob = readfile(path+f)\n",
    "       Dataset.append(make_xy(Tob))\n",
    "       Wiring.append(Tab)\n",
    "    #My_Visualize([Tob], Tab, ['w'])\n",
    "    \n",
    "Dataset = np.array(Dataset[:-1])\n",
    "Dataset.shape"
   ]
  },
  {
   "attachments": {},
   "cell_type": "markdown",
   "metadata": {},
   "source": [
    "Marking the missing region"
   ]
  },
  {
   "cell_type": "code",
   "execution_count": 5,
   "metadata": {},
   "outputs": [
    {
     "name": "stdout",
     "output_type": "stream",
     "text": [
      "8316\n"
     ]
    }
   ],
   "source": [
    "def Region(T, center, radius):\n",
    "    \"\"\"Function : finds the indexes of the points of the shape that are in the sphere specified by \n",
    "    the center and the radius \"\"\"\n",
    "    Indexes = []\n",
    "    for i in range(len(T)) :\n",
    "        if np.linalg.norm(T[i]-center)<radius :\n",
    "            Indexes.append(i)\n",
    "    return Indexes\n",
    "\n",
    "# Defining a region restriction in the face to limit computational time \n",
    "\n",
    "Tob = unmake_xy(Dataset[0, :])\n",
    "Restriction = Region(Tob, [0.0005, 0.0012, 0.004], 0.0032)\n",
    "print(len(Restriction))\n",
    "\n",
    "\n",
    "#My_Visualize([Tob], Tab, ['w'], Restriction[1:])"
   ]
  },
  {
   "cell_type": "code",
   "execution_count": 6,
   "metadata": {},
   "outputs": [
    {
     "name": "stdout",
     "output_type": "stream",
     "text": [
      "(10, 24948)\n"
     ]
    },
    {
     "data": {
      "text/plain": [
       "(10, 24948)"
      ]
     },
     "execution_count": 6,
     "metadata": {},
     "output_type": "execute_result"
    }
   ],
   "source": [
    "## Creating the restricted dataset on the region of interest\n",
    "\n",
    "Restricted_Dataset = np.zeros((Dataset.shape[0], len(Restriction)*3))\n",
    "\n",
    "print(Restricted_Dataset.shape)\n",
    "for i in range(Dataset.shape[0]) :\n",
    "    Restricted_Dataset[i] = make_xy(unmake_xy(Dataset[i])[Restriction])\n",
    "\n",
    "Restricted_Dataset.shape"
   ]
  },
  {
   "cell_type": "code",
   "execution_count": 7,
   "metadata": {},
   "outputs": [],
   "source": [
    "# Displaying the noseless shape from a training example\n",
    "\n",
    "Noseless= unmake_xy(Dataset[-1, :])\n",
    "Indexes = Region(Noseless, [0.0005, 0.0012, 0.004], 0.00135)\n",
    "\n",
    "Noseless[Indexes] = 0\n",
    "\n",
    "# Uncoment to visualize\n",
    "#My_Visualize([Noseless], Wiring[0], ['w'])"
   ]
  },
  {
   "cell_type": "code",
   "execution_count": 8,
   "metadata": {},
   "outputs": [
    {
     "name": "stdout",
     "output_type": "stream",
     "text": [
      "854\n"
     ]
    }
   ],
   "source": [
    "# Defining the missing region that will be reconstructed by the GPR \n",
    "\n",
    "Indexes = []\n",
    "Tob = unmake_xy(Restricted_Dataset[0, :])\n",
    "Indexes = Region(Tob, [0.0005, 0.0012, 0.004], 0.00135)\n",
    "print(len(Indexes))"
   ]
  },
  {
   "cell_type": "code",
   "execution_count": 9,
   "metadata": {},
   "outputs": [
    {
     "name": "stdout",
     "output_type": "stream",
     "text": [
      "9\n"
     ]
    }
   ],
   "source": [
    "from copy import deepcopy\n",
    "\n",
    "## In this section we will devide the faces on multiple gaussian processes to avoid the memory problem\n",
    "\n",
    "\n",
    "# Specifying the number of processes\n",
    "N_process = 9\n",
    "\n",
    "# Initializing the table that will manage what each process space region is\n",
    "Decoding = []\n",
    "\n",
    "for j in range(N_process) :\n",
    "    L = []\n",
    "    # We got through the points of the mesh one by one, the first point is taken by the first gaussian process \n",
    "    # the second point is taken by the second process and so on\n",
    "    for i in range(0, Restricted_Dataset.shape[1], 3) :\n",
    "        if (i//3)%N_process == j :\n",
    "            L.append(i)\n",
    "            L.append(i+1)\n",
    "            L.append(i+2)\n",
    "    Decoding.append(L)\n",
    "\n",
    "print(len(Decoding))\n",
    "    \n",
    "\n",
    "# Here we specify for each process the indexes of the deformation that it will predict after the training\n",
    "Regions_decod = deepcopy(Decoding)\n",
    "\n",
    "for i in range(len(Regions_decod)) :\n",
    "    for j in range(len(Regions_decod[i])) :\n",
    "        if (Decoding[i][j]//3 in Indexes) :\n",
    "            Regions_decod[i][j] = 0 \n",
    "        else :\n",
    "            Regions_decod[i][j] = 1"
   ]
  },
  {
   "cell_type": "code",
   "execution_count": 10,
   "metadata": {},
   "outputs": [
    {
     "name": "stdout",
     "output_type": "stream",
     "text": [
      "\n"
     ]
    },
    {
     "data": {
      "text/plain": [
       "((159447,), (10, 24948))"
      ]
     },
     "execution_count": 10,
     "metadata": {},
     "output_type": "execute_result"
    }
   ],
   "source": [
    "\n",
    "# Normalizing the dataset\n",
    "Dataset /= np.max(Dataset)\n",
    "\n",
    "# Computing the mean shape\n",
    "Mean_shape = np.mean(Dataset, axis=0)\n",
    "\n",
    "# Computing the deformations from the mean shape\n",
    "Dataset = Dataset - Mean_shape\n",
    "\n",
    "# Recomputing the restricted dataset after normalizing and centering\n",
    "Restricted_Dataset = np.zeros((Dataset.shape[0], len(Restriction)*3))\n",
    "\n",
    "print()\n",
    "for i in range(Dataset.shape[0]) :\n",
    "    Restricted_Dataset[i] = make_xy(unmake_xy(Dataset[i])[Restriction])\n",
    "\n",
    "Mean_shape.shape, Restricted_Dataset.shape"
   ]
  },
  {
   "attachments": {},
   "cell_type": "markdown",
   "metadata": {},
   "source": [
    "Augmenting the data "
   ]
  },
  {
   "cell_type": "code",
   "execution_count": 11,
   "metadata": {},
   "outputs": [
    {
     "data": {
      "text/plain": [
       "((9, 159447), (159447,))"
      ]
     },
     "execution_count": 11,
     "metadata": {},
     "output_type": "execute_result"
    }
   ],
   "source": [
    "# Splitting the dataset to train and test\n",
    "Train_data = Dataset[:9, :]\n",
    "Test_data = Dataset[9, :]\n",
    "\n",
    "Train_data.shape, Test_data.shape"
   ]
  },
  {
   "cell_type": "code",
   "execution_count": 12,
   "metadata": {},
   "outputs": [],
   "source": [
    "#My_Visualize([ unmake_xy(Test_data)], Wiring[0], colors=['w'])"
   ]
  },
  {
   "cell_type": "code",
   "execution_count": 13,
   "metadata": {},
   "outputs": [],
   "source": [
    "# Initializing the data augmentation by projecting the train data into the pca plane\n",
    "\n",
    "pca = PCA(n_components=3)\n",
    "pca.fit(Train_data)\n",
    "\n",
    "Y = pca.fit_transform(Train_data)"
   ]
  },
  {
   "cell_type": "code",
   "execution_count": 14,
   "metadata": {},
   "outputs": [
    {
     "data": {
      "text/plain": [
       "(11, 159447)"
      ]
     },
     "execution_count": 14,
     "metadata": {},
     "output_type": "execute_result"
    }
   ],
   "source": [
    "# defining from the projected points, the bounds of the pca domain from which we will \n",
    "m1, M1 = min(Y[:, 0]), max(Y[:, 0])\n",
    "m2, M2 = min(Y[:, 1]), max(Y[:, 1])\n",
    "m3, M3 = min(Y[:, 2]), max(Y[:, 2])\n",
    "M = max(abs(np.array([m1, M1, m2, M2, m3, M3])))\n",
    "\n",
    "# Sampling random points from the pca space\n",
    "New_samples = np.random.uniform(-M, M, (11, 3))\n",
    "\n",
    "# Transforming those sampled points back the shape space \n",
    "New_shapes = pca.inverse_transform(New_samples)\n",
    "New_shapes.shape"
   ]
  },
  {
   "cell_type": "code",
   "execution_count": 15,
   "metadata": {},
   "outputs": [
    {
     "data": {
      "image/png": "[encoded data removed]",
      "text/plain": [
       "<Figure size 640x480 with 1 Axes>"
      ]
     },
     "metadata": {},
     "output_type": "display_data"
    }
   ],
   "source": [
    "plt.scatter(Y[:, 0], Y[:, 1], label=\"Training shapes in the PCA plane\", c='g')\n",
    "plt.scatter(New_samples[:, 0], New_samples[:, 1], label=\"New sampled shapes in the PCA plane\", c='b')\n",
    "plt.legend()\n",
    "plt.show()"
   ]
  },
  {
   "cell_type": "code",
   "execution_count": 16,
   "metadata": {},
   "outputs": [],
   "source": [
    "# Adding the new generated shapes to the dataset\n",
    "Train_data = np.concatenate((Train_data, New_shapes), axis=0)"
   ]
  },
  {
   "cell_type": "code",
   "execution_count": 17,
   "metadata": {},
   "outputs": [
    {
     "data": {
      "text/plain": [
       "((24948,), (20, 24948))"
      ]
     },
     "execution_count": 17,
     "metadata": {},
     "output_type": "execute_result"
    }
   ],
   "source": [
    "# Redifining the restricted regions on the new shapes \n",
    "\n",
    "Restricted_train_data = np.zeros((Train_data.shape[0], len(Restriction)*3))\n",
    "\n",
    "for i in range(Train_data.shape[0]) :\n",
    "    Restricted_train_data[i] = make_xy(unmake_xy(Train_data[i])[Restriction])\n",
    "\n",
    "Restricted_test_data = np.zeros(len(Restriction)*3)\n",
    "\n",
    "Restricted_test_data =  make_xy(unmake_xy(Test_data)[Restriction])\n",
    "\n",
    "Restricted_test_data.shape, Restricted_train_data.shape"
   ]
  },
  {
   "cell_type": "code",
   "execution_count": 18,
   "metadata": {},
   "outputs": [],
   "source": [
    "def Accuracy(A, P, R, T_data) :\n",
    "    \"\"\"Function : Computing the accuracy metric\n",
    "        Inputs :\n",
    "            - A : Mean shape reconstruction\n",
    "            - P : Predicted reconstruction by GPR\n",
    "            - R : Real shape \n",
    "            - T_data : Training data\n",
    "        Ouptut :\n",
    "            - Acc : the accuracy of the reconstruction\"\"\"\n",
    "    \n",
    "    pca = PCA(n_components=10)\n",
    "    pca.fit(Restricted_train_data)\n",
    "\n",
    "    Data = np.zeros((T_data.shape[0]+3, T_data.shape[1]))\n",
    "    Data[-1, :] = R\n",
    "    Data[-2, :] = P\n",
    "    Data[-3, :] = A\n",
    "    Data[:-3, :] = T_data\n",
    "    Y = pca.fit_transform(Data)\n",
    "\n",
    "    return 1-np.linalg.norm(Y[-1]-Y[-2])/np.linalg.norm(Y[-1]-Y[-3])\n",
    "\n"
   ]
  },
  {
   "cell_type": "code",
   "execution_count": 19,
   "metadata": {},
   "outputs": [],
   "source": [
    "def Process(params, s) :\n",
    "    \"\"\"Function : Initialize, Train and test the multiple GPR with the parameters given\n",
    "        Inputs :\n",
    "            - params : [l, nu] the parameters of the matern kernel\n",
    "            - s : the scalling coeficient of the matern kernel\"\"\"\n",
    "\n",
    "    # Initializing the GPR list \n",
    "    GP_net = []\n",
    "\n",
    "    # Setting the variance of the white noise kernel\n",
    "    sigma = 0.001\n",
    "    \n",
    "\n",
    "    for i in range(N_process) :\n",
    "        #print(\"Gaussian Process \"+str(i+1)+\" started training\")\n",
    "\n",
    "        # Defining the kernel with the given parameters \n",
    "        My_kernel = s * Matern(length_scale=params[0], nu=params[1])+ ConstantKernel()+ WhiteKernel(noise_level=sigma)\n",
    "        \n",
    "        # Initializing the i-th GPR\n",
    "        GP = GPregressor(Input_dim=3, Nb_points=len(Decoding[i])//3, kernel=My_kernel)\n",
    "\n",
    "        # Training the i-th GPR \n",
    "        GP.fit(Restricted_train_data[:, Decoding[i]])\n",
    "\n",
    "        # Saving the model\n",
    "        GP_net.append(GP)\n",
    "\n",
    "    # Defining the test shape \n",
    "    Test_shape = deepcopy(Restricted_test_data)\n",
    "    Predicted_shape = np.zeros(Test_shape.shape)\n",
    "\n",
    "    for i in range(N_process) :\n",
    "        #print(\"GP \" + str(i)+\" is processing the missing points\")\n",
    "\n",
    "        # Predicting the part of the missing points by the i-th gaussian process\n",
    "        Test_shape_i = Test_shape[Decoding[i]]\n",
    "        Predicted_points = GP_net[i].predict(Test_shape_i, np.array(Regions_decod[i]))\n",
    "        Predicted_shape[Decoding[i]] = Predicted_points\n",
    "\n",
    "    # Defining the average reconstruction by replacing the missing nose with the average nose\n",
    "    Average_reconstruction = deepcopy(Test_shape)\n",
    "    for i in range(N_process) :\n",
    "        for j in range(len(Decoding[i])) :\n",
    "            if Regions_decod[i][j] == 0 :\n",
    "                Average_reconstruction[Decoding[i][j]] = 0\n",
    "\n",
    "    # transforming the average , predicted, real shapes to 3D format for displaying \n",
    "\n",
    "    A = deepcopy(unmake_xy(Test_data))\n",
    "    A[Restriction, :] = unmake_xy(Average_reconstruction)\n",
    "    A += unmake_xy(Mean_shape)\n",
    "\n",
    "    P = deepcopy(unmake_xy(Test_data))\n",
    "    P[Restriction, :] = unmake_xy(Predicted_shape)\n",
    "    P += unmake_xy(Mean_shape)\n",
    "\n",
    "    R = deepcopy(unmake_xy(Test_data))\n",
    "    R += unmake_xy(Mean_shape)\n",
    "\n",
    "    #My_Visualize([A, P, R], Wiring[0], ['w', 'w', 'w'])\n",
    "\n",
    "    # Computing the accuracy of the prediction\n",
    "    Acc =  Accuracy(Average_reconstruction, Predicted_shape, Test_shape, Restricted_train_data)\n",
    "    return Acc, A, R, P\n"
   ]
  },
  {
   "cell_type": "code",
   "execution_count": 20,
   "metadata": {},
   "outputs": [
    {
     "name": "stdout",
     "output_type": "stream",
     "text": [
      "Accuracy --> 97.87 %\n"
     ]
    }
   ],
   "source": [
    "#Those are the best parameters we found for the reconstruction\n",
    "\n",
    "l = 0.5\n",
    "Nu = 1.5\n",
    "s = 10\n",
    "\n",
    "Acc, A, R, P= Process([l, Nu], s)\n",
    "\n",
    "print(\"Accuracy --> \"+ str(round(Acc*100, 2)) + \" %\")\n"
   ]
  },
  {
   "cell_type": "code",
   "execution_count": 21,
   "metadata": {},
   "outputs": [],
   "source": [
    "My_Visualize([A, P, R], Wiring[0], ['r', 'w', 'g'])"
   ]
  },
  {
   "cell_type": "code",
   "execution_count": 22,
   "metadata": {},
   "outputs": [
    {
     "data": {
      "text/plain": [
       "'l_range = np.linspace(0.1, 3, 4)\\nNu_range = np.linspace(0.1, 1.5, 4)\\ns_range = [1, 2, 3, 4]\\n\\nResults = np.zeros((len(l_range), len(Nu_range), len(s_range)))\\n\\nCost = 0\\nBest_fit = A\\nfor lr in range(len(l_range)) :\\n    for nr in range(len(Nu_range)) :\\n        for sr in range(len(s_range)) :\\n            print([l_range[lr], Nu_range[nr], s_range[sr]])\\n            Results[lr, nr, sr], A, R, P = Process([l_range[lr], Nu_range[nr]], s_range[sr])\\n            if Results[lr, nr, sr]>Cost :\\n                Cost = Results[lr, nr, sr]\\n                Best_fit = P\\n            print(Results[lr, nr, sr])'"
      ]
     },
     "execution_count": 22,
     "metadata": {},
     "output_type": "execute_result"
    }
   ],
   "source": [
    "# this section tries multiple kernel parameters values to find the optimal ones\n",
    "# Warning it takes a lot of computational time since it evalutes the reconstruction for 64 combination of params\n",
    "\n",
    "\"\"\"l_range = np.linspace(0.1, 3, 4)\n",
    "Nu_range = np.linspace(0.1, 1.5, 4)\n",
    "s_range = [1, 2, 3, 4]\n",
    "\n",
    "Results = np.zeros((len(l_range), len(Nu_range), len(s_range)))\n",
    "\n",
    "Cost = 0\n",
    "Best_fit = A\n",
    "for lr in range(len(l_range)) :\n",
    "    for nr in range(len(Nu_range)) :\n",
    "        for sr in range(len(s_range)) :\n",
    "            print([l_range[lr], Nu_range[nr], s_range[sr]])\n",
    "            Results[lr, nr, sr], A, R, P = Process([l_range[lr], Nu_range[nr]], s_range[sr])\n",
    "            if Results[lr, nr, sr]>Cost :\n",
    "                Cost = Results[lr, nr, sr]\n",
    "                Best_fit = P\n",
    "            print(Results[lr, nr, sr])\"\"\"\n",
    "\n"
   ]
  }
 ],
 "metadata": {
  "kernelspec": {
   "display_name": "Python 3",
   "language": "python",
   "name": "python3"
  },
  "language_info": {
   "codemirror_mode": {
    "name": "ipython",
    "version": 3
   },
   "file_extension": ".py",
   "mimetype": "text/x-python",
   "name": "python",
   "nbconvert_exporter": "python",
   "pygments_lexer": "ipython3",
   "version": "3.7.3"
  },
  "orig_nbformat": 4
 },
 "nbformat": 4,
 "nbformat_minor": 2
}
