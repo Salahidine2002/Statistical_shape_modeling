{
 "cells": [
  {
   "cell_type": "code",
   "execution_count": 1,
   "metadata": {},
   "outputs": [
    {
     "name": "stderr",
     "output_type": "stream",
     "text": [
      "\n",
      "Bad key text.latex.preview in file c:\\RoboDK\\Python37\\lib\\site-packages\\matplotlib\\mpl-data\\stylelib\\_classic_test.mplstyle, line 123 ('text.latex.preview : False')\n",
      "You probably need to get an updated matplotlibrc file from\n",
      "https://github.com/matplotlib/matplotlib/blob/v3.5.3/matplotlibrc.template\n",
      "or from the matplotlib source distribution\n",
      "\n",
      "Bad key mathtext.fallback_to_cm in file c:\\RoboDK\\Python37\\lib\\site-packages\\matplotlib\\mpl-data\\stylelib\\_classic_test.mplstyle, line 155 ('mathtext.fallback_to_cm : True  # When True, use symbols from the Computer Modern')\n",
      "You probably need to get an updated matplotlibrc file from\n",
      "https://github.com/matplotlib/matplotlib/blob/v3.5.3/matplotlibrc.template\n",
      "or from the matplotlib source distribution\n",
      "\n",
      "Bad key savefig.jpeg_quality in file c:\\RoboDK\\Python37\\lib\\site-packages\\matplotlib\\mpl-data\\stylelib\\_classic_test.mplstyle, line 418 ('savefig.jpeg_quality: 95       # when a jpeg is saved, the default quality parameter.')\n",
      "You probably need to get an updated matplotlibrc file from\n",
      "https://github.com/matplotlib/matplotlib/blob/v3.5.3/matplotlibrc.template\n",
      "or from the matplotlib source distribution\n",
      "\n",
      "Bad key keymap.all_axes in file c:\\RoboDK\\Python37\\lib\\site-packages\\matplotlib\\mpl-data\\stylelib\\_classic_test.mplstyle, line 466 ('keymap.all_axes : a                 # enable all axes')\n",
      "You probably need to get an updated matplotlibrc file from\n",
      "https://github.com/matplotlib/matplotlib/blob/v3.5.3/matplotlibrc.template\n",
      "or from the matplotlib source distribution\n",
      "\n",
      "Bad key animation.avconv_path in file c:\\RoboDK\\Python37\\lib\\site-packages\\matplotlib\\mpl-data\\stylelib\\_classic_test.mplstyle, line 477 ('animation.avconv_path: avconv     # Path to avconv binary. Without full path')\n",
      "You probably need to get an updated matplotlibrc file from\n",
      "https://github.com/matplotlib/matplotlib/blob/v3.5.3/matplotlibrc.template\n",
      "or from the matplotlib source distribution\n",
      "\n",
      "Bad key animation.avconv_args in file c:\\RoboDK\\Python37\\lib\\site-packages\\matplotlib\\mpl-data\\stylelib\\_classic_test.mplstyle, line 479 ('animation.avconv_args:            # Additional arguments to pass to avconv')\n",
      "You probably need to get an updated matplotlibrc file from\n",
      "https://github.com/matplotlib/matplotlib/blob/v3.5.3/matplotlibrc.template\n",
      "or from the matplotlib source distribution\n"
     ]
    }
   ],
   "source": [
    "import numpy as np\n",
    "import vtk\n",
    "import matplotlib.pyplot as plt\n",
    "import vtkplotlib as vpl\n",
    "from vtk.util.numpy_support import vtk_to_numpy\n",
    "import os\n",
    "from scipy import spatial\n",
    "from sklearn.decomposition import PCA"
   ]
  },
  {
   "cell_type": "code",
   "execution_count": 2,
   "metadata": {},
   "outputs": [],
   "source": [
    "def readfile(filename):\n",
    "    reader = vtk.vtkGenericDataObjectReader()\n",
    "    reader.SetFileName(filename)\n",
    "    reader.Update()\n",
    "\n",
    "    polydata = reader.GetOutput()\n",
    "\n",
    "    points = polydata.GetPoints()\n",
    "    array = points.GetData()\n",
    "    numpy_nodes = vtk_to_numpy(array)\n",
    "    #print(numpy_nodes)\n",
    "    cells = polydata.GetPolys()\n",
    "    nCells = cells.GetNumberOfCells()\n",
    "    array = cells.GetData()\n",
    "    # This holds true if all polys are of the same kind, e.g. triangles.\n",
    "    assert(array.GetNumberOfValues()%nCells==0)\n",
    "    nCols = array.GetNumberOfValues()//nCells\n",
    "    numpy_cells = vtk_to_numpy(array)\n",
    "    numpy_cells = numpy_cells.reshape((-1,nCols))\n",
    "    return numpy_cells, numpy_nodes\n",
    "\n",
    "def write_vtk(points, cell, filename):\n",
    "    with open(filename, 'w') as f:\n",
    "        # Write header\n",
    "        f.write(\"# vtk DataFile Version 4.2\\n\")\n",
    "        f.write(\"vtk output\\n\")\n",
    "        f.write(\"ASCII\\n\")\n",
    "        f.write(\"DATASET POLYDATA\\n\")\n",
    "        \n",
    "        # Write points\n",
    "        num_points = len(points)\n",
    "        f.write(\"POINTS {} float\\n\".format(num_points))\n",
    "        for point in points:\n",
    "            f.write(\"{} {} {}\\n\".format(point[0], point[1], point[2]))\n",
    "        \n",
    "        # Write cells\n",
    "        num_cells = len(cell)\n",
    "        total_num_points = np.sum(cell[:, 0])\n",
    "        f.write(\"POLYGONS {} {}\\n\".format(num_cells, total_num_points + num_cells))\n",
    "        for cell_indices in cell:\n",
    "            num_indices = cell_indices[0]\n",
    "            f.write(\"{} \".format(num_indices))\n",
    "            for index in cell_indices[1:]:\n",
    "                f.write(\"{} \".format(index))\n",
    "            f.write(\"\\n\")\n",
    "\n",
    "def visualize(nameOfFile):\n",
    "\n",
    "        # Load the VTK file\n",
    "    reader = vtk.vtkPolyDataReader()\n",
    "    reader.SetFileName(nameOfFile)\n",
    "    reader.Update()\n",
    "\n",
    "    # Create a mapper\n",
    "    mapper = vtk.vtkPolyDataMapper()\n",
    "    mapper.SetInputConnection(reader.GetOutputPort())\n",
    "\n",
    "    # Create an actor\n",
    "    actor = vtk.vtkActor()\n",
    "    actor.SetMapper(mapper)\n",
    "\n",
    "    # Create a renderer and add the actor to it\n",
    "    renderer = vtk.vtkRenderer()\n",
    "    renderer.AddActor(actor)\n",
    "\n",
    "    # Create a render window and set the renderer as its active renderer\n",
    "    renderWindow = vtk.vtkRenderWindow()\n",
    "    renderWindow.AddRenderer(renderer)\n",
    "    renderWindow.SetSize(600, 600)\n",
    "    renderer.ResetCamera()\n",
    "\n",
    "    # Create an interactor and start the visualization\n",
    "    interactor = vtk.vtkRenderWindowInteractor()\n",
    "    interactor.SetRenderWindow(renderWindow)\n",
    "    interactor.Start()\n",
    "\n",
    "def flatten(Shape):\n",
    "    return np.concatenate((Shape[:, 0], Shape[:, 1], Shape[:, 2]))\n",
    "\n",
    "def unflatten(Shape):\n",
    "    n = len(Shape)//3\n",
    "    return np.array([Shape[:n], Shape[n:2*n], Shape[2*n:]]).T"
   ]
  },
  {
   "cell_type": "code",
   "execution_count": 3,
   "metadata": {},
   "outputs": [],
   "source": [
    "def Visualize(Faces_List=[], Wiring=[], colors=[], Scatter=[0]):\n",
    "    mesh = Faces_List[0][Wiring][:, 1:]\n",
    "    offset = np.zeros(mesh.shape)\n",
    "    vpl.figure(\"Face\")\n",
    "    for i in range(len(Faces_List)) :\n",
    "        mesh = Faces_List[i][Wiring][:, 1:] + offset\n",
    "        vpl.mesh_plot(mesh, color=colors[i])\n",
    "        offset[:, :, 0] += 0.01\n",
    "    if Scatter[0]:\n",
    "        vpl.scatter(Faces_List[0][Scatter], radius=0.0001, color='r')\n",
    "    vpl.show()"
   ]
  },
  {
   "cell_type": "code",
   "execution_count": 4,
   "metadata": {},
   "outputs": [],
   "source": [
    "from IPython.display import clear_output\n",
    "\n",
    "\n",
    "def Construct_dataset(path) :\n",
    "    L = os.listdir(path)\n",
    "    Dataset = []\n",
    "    for i in range(20) :\n",
    "        if 'vtk' in L[i] :\n",
    "            Tab, Tob = readfile(path+L[i])\n",
    "            Dataset.append(flatten(Tob))\n",
    "\n",
    "    return np.array(Dataset)"
   ]
  },
  {
   "cell_type": "code",
   "execution_count": 5,
   "metadata": {},
   "outputs": [],
   "source": [
    "path = '../Aligned_data/'\n",
    "Dataset = Construct_dataset(path)"
   ]
  },
  {
   "cell_type": "code",
   "execution_count": 6,
   "metadata": {},
   "outputs": [],
   "source": [
    "L = os.listdir(path)\n",
    "Tab, Tob = readfile(path+L[3])\n",
    "Wiring = Tab"
   ]
  },
  {
   "cell_type": "code",
   "execution_count": 123,
   "metadata": {},
   "outputs": [],
   "source": [
    "Train_data = Dataset[:9, :]\n",
    "Test_data = Dataset[9:, :]"
   ]
  },
  {
   "cell_type": "code",
   "execution_count": 8,
   "metadata": {},
   "outputs": [
    {
     "data": {
      "image/png": "[encoded data removed]",
      "text/plain": [
       "<Figure size 640x480 with 1 Axes>"
      ]
     },
     "metadata": {},
     "output_type": "display_data"
    },
    {
     "name": "stdout",
     "output_type": "stream",
     "text": [
      "the number of significant PCA modes : 5\n"
     ]
    }
   ],
   "source": [
    "def PCA_analysis(data) :   \n",
    "    pca = PCA(n_components=len(data))\n",
    "    pca.fit(data)\n",
    "    exp_var_pca = pca.explained_variance_ratio_\n",
    "    cum_sum_eigenvalues = np.cumsum(exp_var_pca)\n",
    "\n",
    "    plt.bar(range(0,len(exp_var_pca)), exp_var_pca, alpha=0.5, align='center', label='Individual explained variance')\n",
    "    plt.step(range(0,len(cum_sum_eigenvalues)), cum_sum_eigenvalues, where='mid',label='Cumulative explained variance')\n",
    "    plt.ylabel('Explained variance ratio')\n",
    "    plt.xlabel('Principal component modes')\n",
    "    plt.legend(loc='best')\n",
    "    plt.tight_layout()\n",
    "\n",
    "    N = 0\n",
    "    for i in range(len(cum_sum_eigenvalues)):\n",
    "        if cum_sum_eigenvalues[i]>= 0.99*cum_sum_eigenvalues[-1] :\n",
    "            plt.axhline(y = cum_sum_eigenvalues[i], color = 'r', linestyle = ':')\n",
    "            plt.axvline(x = i, color = 'r', linestyle = ':')\n",
    "            N = i+1\n",
    "            break\n",
    "    plt.show()\n",
    "    print('the number of significant PCA modes : ' + str(N))\n",
    "\n",
    "PCA_analysis(Dataset)"
   ]
  },
  {
   "cell_type": "code",
   "execution_count": 9,
   "metadata": {},
   "outputs": [],
   "source": [
    "Visualize([unflatten(Train_data[i]) for i in range(Train_data.shape[0])], Wiring, ['w' for _ in range(Train_data.shape[0])])"
   ]
  },
  {
   "cell_type": "code",
   "execution_count": 43,
   "metadata": {},
   "outputs": [],
   "source": [
    "from time import time \n",
    "\n",
    "def decompose(Shape, u):\n",
    "        Coefs = np.zeros(u.shape[1])\n",
    "        for i in range(u.shape[1]) :\n",
    "            Coefs[i] = np.dot(Shape, u[:, i])/(np.linalg.norm(u[:, i]))**2\n",
    "        return Coefs\n",
    "\n",
    "def similarity(Model, Target, mean, u) :\n",
    "    return 1 - (np.linalg.norm(decompose(Model, u)-Target)/np.linalg.norm(mean-Target))**2\n",
    "\n",
    "def Reconstruct(Face, mean, Points, mean_dec, Dx1, Mx1, Mx2, u) :\n",
    "\n",
    "    Face_c = Face-mean\n",
    "    Target = decompose(Face, u)\n",
    "    \n",
    "    C_opt = Mx1 @ Face_c[Points]\n",
    "    print(C_opt)\n",
    "    Model = Mx2 @ C_opt + mean\n",
    "\n",
    "    #for j in range(len(Points)//3) :\n",
    "    #    Coords = Points[3*j:3*j+3]\n",
    "    #    Copt = Dx1[j][0] @ (Face[Coords]- Model[Coords])\n",
    "    #    Model += Dx1[j][1]  @ Copt \n",
    "    \n",
    "    error = similarity(Model, Target, mean_dec, u)\n",
    "    return Model, error\n"
   ]
  },
  {
   "cell_type": "code",
   "execution_count": 124,
   "metadata": {},
   "outputs": [
    {
     "name": "stdout",
     "output_type": "stream",
     "text": [
      "31335\n"
     ]
    }
   ],
   "source": [
    "D = Train_data.shape[1]//3 \n",
    "N = Train_data.shape[0]\n",
    "\n",
    "Control_pts = np.random.randint(0, D, 20)\n",
    "print(Control_pts[0])\n",
    "#P = range(1, 5000, 100)\n",
    "\n",
    "Visualize([unflatten(Train_data[0])], Wiring, ['w'], Control_pts)"
   ]
  },
  {
   "cell_type": "code",
   "execution_count": 175,
   "metadata": {},
   "outputs": [],
   "source": [
    "F = np.zeros(len(Control_pts)*3)\n",
    "\n",
    "i = 0\n",
    "while i < len(Control_pts) :\n",
    "    F[3*i], F[3*i+1], F[3*i+2]= Control_pts[i], Control_pts[i]+D, Control_pts[i]+2*D\n",
    "    i += 1\n",
    "\n",
    "F = F.astype(int)"
   ]
  },
  {
   "cell_type": "code",
   "execution_count": 161,
   "metadata": {},
   "outputs": [],
   "source": [
    "Train_data = Dataset[:6, :]\n",
    "Test_data = Dataset[9:, :]"
   ]
  },
  {
   "cell_type": "code",
   "execution_count": 162,
   "metadata": {},
   "outputs": [
    {
     "data": {
      "text/plain": [
       "((159447, 6), (6,), (6, 6))"
      ]
     },
     "execution_count": 162,
     "metadata": {},
     "output_type": "execute_result"
    }
   ],
   "source": [
    "mean = np.mean(Train_data, axis=0)\n",
    "X = (Train_data[:, :] - mean)\n",
    "u, s, vh = np.linalg.svd(X.T, full_matrices=False)\n",
    "\n",
    "#p = s.shape[0]\n",
    "p=6\n",
    "u = u[:, :p]\n",
    "s = s[:p]\n",
    "vh = vh[:p, :p]\n",
    "u.shape, s.shape, vh.shape"
   ]
  },
  {
   "cell_type": "code",
   "execution_count": 163,
   "metadata": {},
   "outputs": [
    {
     "data": {
      "text/plain": [
       "((60, 6), (6,), (6, 6))"
      ]
     },
     "execution_count": 163,
     "metadata": {},
     "output_type": "execute_result"
    }
   ],
   "source": [
    "X_new = u[F, :] @ np.diag(s)\n",
    "u_new, s_new, vh_new = np.linalg.svd(X_new, full_matrices=False)\n",
    "u_new.shape, s_new.shape, vh_new.shape"
   ]
  },
  {
   "cell_type": "code",
   "execution_count": 164,
   "metadata": {},
   "outputs": [],
   "source": [
    "from copy import deepcopy\n",
    "\n",
    "\n",
    "Test = (np.min(Test_data)/600)*np.random.normal(0, 1, Test_data.shape) + Test_data\n",
    "X_test = (deepcopy(Test) - mean).T\n",
    "X_test.shape\n",
    "\n",
    "X_test_n = deepcopy(Test).T"
   ]
  },
  {
   "cell_type": "code",
   "execution_count": 165,
   "metadata": {},
   "outputs": [
    {
     "data": {
      "text/plain": [
       "(159447, 11)"
      ]
     },
     "execution_count": 165,
     "metadata": {},
     "output_type": "execute_result"
    }
   ],
   "source": [
    "X_test.shape"
   ]
  },
  {
   "cell_type": "code",
   "execution_count": 170,
   "metadata": {},
   "outputs": [
    {
     "data": {
      "text/plain": [
       "(60,)"
      ]
     },
     "execution_count": 170,
     "metadata": {},
     "output_type": "execute_result"
    }
   ],
   "source": [
    "F.shape"
   ]
  },
  {
   "cell_type": "code",
   "execution_count": 173,
   "metadata": {},
   "outputs": [
    {
     "name": "stdout",
     "output_type": "stream",
     "text": [
      "[ 31335  84484 137633]\n",
      "[  4378  57527 110676]\n",
      "[ 27617  80766 133915]\n",
      "[ 30248  83397 136546]\n",
      "[ 47114 100263 153412]\n",
      "[ 43402  96551 149700]\n",
      "[ 33777  86926 140075]\n",
      "[ 14114  67263 120412]\n",
      "[ 29902  83051 136200]\n",
      "[ 45625  98774 151923]\n",
      "[ 39427  92576 145725]\n",
      "[ 16232  69381 122530]\n",
      "[ 17694  70843 123992]\n",
      "[ 25130  78279 131428]\n",
      "[ 29638  82787 135936]\n",
      "[ 44862  98011 151160]\n",
      "[ 19342  72491 125640]\n",
      "[  4034  57183 110332]\n",
      "[ 52099 105248 158397]\n",
      "[ 20863  74012 127161]\n"
     ]
    },
    {
     "data": {
      "image/png": "[encoded data removed]",
      "text/plain": [
       "<Figure size 640x480 with 1 Axes>"
      ]
     },
     "metadata": {},
     "output_type": "display_data"
    }
   ],
   "source": [
    "E = []\n",
    "for i in range(0, 1) :\n",
    "\n",
    "    error = []\n",
    "    C_opt = vh_new.T @ np.diag(s_new/(s_new**2+0.00000001)) @ u_new.T @ X_test[F, i]\n",
    "    Model = u @ np.diag(s) @ C_opt + mean\n",
    "    Visualize([unflatten(X_test_n[:, i]), unflatten(mean), unflatten(Model)], Wiring, ['w', 'w', 'w'], Control_pts)\n",
    "\n",
    "\n",
    "    Target = decompose(X_test_n[:, i], u)\n",
    "    Mean_dec = decompose(mean, u)\n",
    "    error.append(similarity(Model, Target, Mean_dec, u))\n",
    "    \n",
    "\n",
    "    for j in range(len(Control_pts)) :\n",
    "        Coords = F[3*j:3*j+3]\n",
    "        print(Coords)\n",
    "        Copt = np.linalg.inv(u[Coords, :] @ np.diag(s) @ (u[Coords, :].T)) @ (X_test_n[:, i][Coords]- Model[Coords])\n",
    "        Model += u @ np.diag(s) @ (u[Coords, :].T) @ Copt \n",
    "\n",
    "        error.append(similarity(Model, Target, Mean_dec, u))\n",
    "    \n",
    "    Visualize([unflatten(X_test_n[:, i]), unflatten(mean), unflatten(Model)], Wiring, ['w', 'w', 'w'], Control_pts)\n",
    "    E.append(error)\n",
    "    \n",
    "E = np.array(E)    \n",
    "\n",
    "\n",
    "plt.plot(-np.log(E))\n",
    "plt.show()"
   ]
  }
 ],
 "metadata": {
  "kernelspec": {
   "display_name": "Python 3",
   "language": "python",
   "name": "python3"
  },
  "language_info": {
   "codemirror_mode": {
    "name": "ipython",
    "version": 3
   },
   "file_extension": ".py",
   "mimetype": "text/x-python",
   "name": "python",
   "nbconvert_exporter": "python",
   "pygments_lexer": "ipython3",
   "version": "3.7.3"
  },
  "orig_nbformat": 4
 },
 "nbformat": 4,
 "nbformat_minor": 2
}
