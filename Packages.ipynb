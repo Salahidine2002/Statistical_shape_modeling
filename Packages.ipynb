{
 "cells": [
  {
   "cell_type": "code",
   "execution_count": 7,
   "metadata": {},
   "outputs": [],
   "source": [
    "import numpy as np\n",
    "import vtk \n",
    "import matplotlib as plt\n",
    "import scipy \n",
    "import plotly as plty\n",
    "import pyvista as pvt\n",
    "import pandas as pd\n",
    "import seaborn as sb\n",
    "import IPython as ip \n",
    "import sklearn as sk "
   ]
  },
  {
   "cell_type": "code",
   "execution_count": 8,
   "metadata": {},
   "outputs": [],
   "source": [
    "Versions = []\n",
    "\n",
    "Versions.append(np.__version__)\n",
    "Versions.append(vtk.__version__)\n",
    "Versions.append(plt.__version__)\n",
    "Versions.append(scipy.__version__)\n",
    "Versions.append(plty.__version__)\n",
    "Versions.append(pvt.__version__)\n",
    "Versions.append(pd.__version__)\n",
    "Versions.append(sb.__version__)\n",
    "Versions.append(sk.__version__)\n",
    "Versions.append(ip.__version__)"
   ]
  },
  {
   "cell_type": "code",
   "execution_count": 9,
   "metadata": {},
   "outputs": [
    {
     "data": {
      "text/plain": [
       "'1.0.1'"
      ]
     },
     "execution_count": 9,
     "metadata": {},
     "output_type": "execute_result"
    }
   ],
   "source": [
    "sk.__version__"
   ]
  },
  {
   "cell_type": "code",
   "execution_count": 10,
   "metadata": {},
   "outputs": [],
   "source": [
    "List = ['numpy', 'vtk', 'matplotlib', 'scipy', 'plotly', 'pyvista', 'pandas', 'seaborn', 'sklearn', 'IPython']"
   ]
  },
  {
   "cell_type": "code",
   "execution_count": 11,
   "metadata": {},
   "outputs": [
    {
     "data": {
      "text/plain": [
       "(10, 10)"
      ]
     },
     "execution_count": 11,
     "metadata": {},
     "output_type": "execute_result"
    }
   ],
   "source": [
    "len(List), len(Versions)"
   ]
  },
  {
   "cell_type": "code",
   "execution_count": 13,
   "metadata": {},
   "outputs": [],
   "source": [
    "with open('./requirements.txt', 'w') as f :\n",
    "    Lines = []\n",
    "    for i in range(len(List)) :\n",
    "        line = List[i] + \"==\" + Versions[i]+'\\n'\n",
    "        Lines.append(line)\n",
    "    f.writelines(Lines)\n"
   ]
  }
 ],
 "metadata": {
  "kernelspec": {
   "display_name": "Python 3",
   "language": "python",
   "name": "python3"
  },
  "language_info": {
   "codemirror_mode": {
    "name": "ipython",
    "version": 3
   },
   "file_extension": ".py",
   "mimetype": "text/x-python",
   "name": "python",
   "nbconvert_exporter": "python",
   "pygments_lexer": "ipython3",
   "version": "3.7.3"
  },
  "orig_nbformat": 4
 },
 "nbformat": 4,
 "nbformat_minor": 2
}
